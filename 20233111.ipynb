{
 "cells": [
  {
   "cell_type": "markdown",
   "id": "586c625c-9b1e-4694-b6ff-20f338c3c943",
   "metadata": {},
   "source": [
    "# OOP (2024 Fall) 실습02: 캡슐화 원리가 적용된 방향그래프\n",
    "- 이름: 가오 중 타이 선\n",
    "- 학번: 20233111"
   ]
  },
  {
   "cell_type": "code",
   "execution_count": 2,
   "id": "23fba1bf-002a-40d9-bb32-769d10202bab",
   "metadata": {},
   "outputs": [
    {
     "data": {
      "text/markdown": [
       "```mermaid\n",
       "\n",
       "graph LR;\n",
       "    서울 --> 원주 --> 평창 --> 강릉\n",
       "    원주 --> 안동\n",
       "    서울 --> 천안 --> 대전 & 공주\n",
       "    대전 --> 대구 --> 부산\n",
       "    공주 --> 익산 --> 광주 --> 목포\n",
       "    대전 --> 익산 --> 전주 --> 여수\n",
       "\n",
       "```"
      ],
      "text/plain": [
       "<IPython.core.display.Markdown object>"
      ]
     },
     "metadata": {},
     "output_type": "display_data"
    }
   ],
   "source": [
    "from IPython.display import display, Markdown\n",
    "\n",
    "mmgraph = \"\"\"\n",
    "graph LR;\n",
    "    서울 --> 원주 --> 평창 --> 강릉\n",
    "    원주 --> 안동\n",
    "    서울 --> 천안 --> 대전 & 공주\n",
    "    대전 --> 대구 --> 부산\n",
    "    공주 --> 익산 --> 광주 --> 목포\n",
    "    대전 --> 익산 --> 전주 --> 여수\n",
    "\"\"\"\n",
    "\n",
    "display(Markdown(f\"```mermaid\\n{mmgraph}\\n```\"))"
   ]
  },
  {
   "cell_type": "code",
   "execution_count": 10,
   "id": "7646bcd1-7569-48dc-906a-79414d559de4",
   "metadata": {},
   "outputs": [],
   "source": [
    "class Graph:\n",
    "    def __init__(self, adj_list):\n",
    "        if not isinstance(adj_list, dict):\n",
    "            raise ValueError(\"adj_list must be a dictionary\")\n",
    "        self.adj_list = {k: v[:] for k, v in adj_list.items()}  # Tạo bản sao để bảo vệ\n",
    "\n",
    "    def adj_from(self, orig):\n",
    "        return self.adj_list.get(orig, None)\n",
    "\n",
    "    def has_path(self, orig, dest):\n",
    "        visited = set()\n",
    "        return self._has_path_helper(orig, dest, visited)\n",
    "\n",
    "    def _has_path_helper(self, orig, dest, visited):\n",
    "        if orig not in self.adj_list or orig in visited:\n",
    "            return False\n",
    "        visited.add(orig)\n",
    "        if orig == dest:\n",
    "            return True\n",
    "        for neighbor in self.adj_list[orig]:\n",
    "            if self._has_path_helper(neighbor, dest, visited):\n",
    "                return True\n",
    "        return False\n"
   ]
  },
  {
   "cell_type": "code",
   "execution_count": 13,
   "id": "47fc6d50-4c93-4d26-8378-a05a59d4caaf",
   "metadata": {},
   "outputs": [
    {
     "name": "stdout",
     "output_type": "stream",
     "text": [
      "{'서울': ['원주', '천안'], '원주': ['평창', '안동'], '안동': [], '평창': ['강릉'], '강릉': [], '천안': ['대전', '공주'], '대전': ['대구', '익산'], '대구': ['부산'], '부산': [], '공주': ['익산'], '익산': ['광주', '전주'], '광주': ['목포'], '목포': [], '전주': ['여수'], '여수': []}\n"
     ]
    }
   ],
   "source": [
    "\n",
    "route_map = {\n",
    "    \"서울\": [\"원주\", \"천안\"],\n",
    "    \"원주\": [\"평창\", \"안동\"],\n",
    "    \"안동\": [],\n",
    "    \"평창\": [\"강릉\"],\n",
    "    \"강릉\": [],\n",
    "    \"천안\": [\"대전\", \"공주\"],\n",
    "    \"대전\": [\"대구\", \"익산\"],\n",
    "    \"대구\": [\"부산\"],\n",
    "    \"부산\": [],\n",
    "    \"공주\": [\"익산\"],\n",
    "    \"익산\": [\"광주\", \"전주\"],\n",
    "    \"광주\": [\"목포\"],\n",
    "    \"목포\": [],\n",
    "    \"전주\": [\"여수\"],\n",
    "    \"여수\": []\n",
    "}\n",
    "\n",
    "route_grap = Graph(route_map)\n",
    "print(route_map)"
   ]
  },
  {
   "cell_type": "code",
   "execution_count": null,
   "id": "7f1ce4fa-629d-47b7-9f4f-c282f26d8c20",
   "metadata": {},
   "outputs": [],
   "source": []
  }
 ],
 "metadata": {
  "kernelspec": {
   "display_name": "Python 3 (ipykernel)",
   "language": "python",
   "name": "python3"
  },
  "language_info": {
   "codemirror_mode": {
    "name": "ipython",
    "version": 3
   },
   "file_extension": ".py",
   "mimetype": "text/x-python",
   "name": "python",
   "nbconvert_exporter": "python",
   "pygments_lexer": "ipython3",
   "version": "3.12.1"
  }
 },
 "nbformat": 4,
 "nbformat_minor": 5
}
